{
 "cells": [
  {
   "cell_type": "code",
   "execution_count": 1,
   "metadata": {},
   "outputs": [],
   "source": [
    "import cv2      #OpenCV is a cross-platform library using which we can develop real-time computer vision applications. It \n",
    "                 #mainly focuses on image processing, video capture and analysis including features like \n",
    "                  #face detection and object detection.\n",
    "import numpy as np\n",
    "from tkinter.filedialog import *   # tkinter filedialog:Python Tkinter (and TK) offer a set of dialogs that \n",
    "                                   #you can use when working with files.\n",
    "\n",
    "photo = askopenfilename()\n",
    "img = cv2.imread(photo) # Imread is a method in cv2 which is used to store images in the form of numbers.\n",
    "\n",
    "# Transforming an image to grayscale: cvtColor(image, flag) is a method in cv2 which is used to transform an image \n",
    "                                     #into the colour-space mentioned as ‘flag’.\n",
    "grey = cv2.cvtColor(img, cv2.COLOR_BGR2GRAY)\n",
    "\n",
    "# Smoothening a grayscale image: To smoothen an image, we simply apply a blur effect. This is done using medianBlur() \n",
    "#function. Here, the center pixel is assigned a mean value of all the pixels which fall under the kernel. In turn,\n",
    "# creating a blur effect.\n",
    "grey = cv2.medianBlur(grey, 5)\n",
    "\n",
    "# ReSized3 = cv2.resize(smoothGrayScale, (960, 540))\n",
    "\n",
    "# Retrieving the edges of an image: In this step, we will work on the first specialty. Here, we will try to retrieve \n",
    "#the edges and highlight them. This is attained by the adaptive thresholding technique. The threshold value is the mean of the \n",
    "#neighborhood pixel values area minus the constant C. C is a constant that is subtracted from the mean or weighted sum of the\n",
    "#neighborhood pixels. Thresh_binary is the type of threshold applied, and the remaining parameters determine the block size.\n",
    "edges = cv2.adaptiveThreshold(grey, 255, cv2.ADAPTIVE_THRESH_MEAN_C, cv2.THRESH_BINARY, 9, 9)\n",
    "\n",
    "#cartoonize\n",
    "# Preparing a Mask Image\n",
    "'''In the above code, we finally work on the second specialty. We prepare a lightened color image that we mask with\n",
    "edges at the end to produce\n",
    "a cartoon image. We use bilateralFilter which removes the noise. It can be taken as smoothening of an image to an extent.'''\n",
    "color = cv2.bilateralFilter(img, 9, 250, 250)\n",
    "\n",
    "#  Giving a Cartoon Effect: So, let’s combine the two specialties.\n",
    "# This will be done using MASKING. We perform bitwise and on two images to mask them\n",
    "cartoon = cv2.bitwise_and(color, color, mask = edges)\n",
    "\n",
    "# cv2.imshow() method is used to display an image in a window.\n",
    "cv2.imshow(\"Image\", img)\n",
    "cv2.imshow(\"Cartoon\", cartoon)\n",
    "\n",
    "#save\n",
    "# cv2. imwrite() method is used to save an image to any storage device. This will save the image according to the \n",
    "# specified format in current working directory.\n",
    "cv2.imwrite(\"cartoon.jpg\", cartoon)\n",
    "\n",
    "# Parameters: cv2.waitkey(wait time in milliseconds)\n",
    "#destroyAllWindows() in the script). If you use '0' as the parmater then the image will be displayed for infinite time \n",
    "#until you press the esc key.\n",
    "cv2.waitKey(0)\n",
    "\n",
    "# destroyAllWindows() simply destroys all the windows we created. To destroy any specific window, use the function cv2. \n",
    "#destroyWindow() where you pass the exact window name.\n",
    "cv2.destroyAllWindows()"
   ]
  },
  {
   "cell_type": "code",
   "execution_count": null,
   "metadata": {},
   "outputs": [],
   "source": []
  }
 ],
 "metadata": {
  "kernelspec": {
   "display_name": "Python 3",
   "language": "python",
   "name": "python3"
  },
  "language_info": {
   "codemirror_mode": {
    "name": "ipython",
    "version": 3
   },
   "file_extension": ".py",
   "mimetype": "text/x-python",
   "name": "python",
   "nbconvert_exporter": "python",
   "pygments_lexer": "ipython3",
   "version": "3.7.6"
  }
 },
 "nbformat": 4,
 "nbformat_minor": 4
}
